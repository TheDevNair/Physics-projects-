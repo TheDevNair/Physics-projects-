{
 "cells": [
  {
   "cell_type": "code",
   "execution_count": null,
   "metadata": {},
   "outputs": [],
   "source": [
    "import numpy as np\n",
    "import sympy as smp\n",
    "from scipy.integrate import odeint\n",
    "import matplotlib.pyplot as plt\n",
    "from matplotlib import animation\n",
    "from matplotlib.animation import PillowWriter"
   ]
  },
  {
   "cell_type": "markdown",
   "metadata": {},
   "source": [
    "Define all necessary variables:\n",
    "\n",
    "* Eor convinence consider true lenght spring $l$=1\n",
    "* Time $t$\n",
    "* Mass of pendulums $m$\n",
    "* Gravitational acceleration $g$\n",
    "* Spring constants $k$\n",
    "\n",
    "Then define the 4 free variables $\\theta_1$, $r_1$, $\\theta_2$, $r_2$\n",
    "\n",
    "1. Make them functions of time\n",
    "2. Define first derivatives\n",
    "3. Define second derivatives"
   ]
  },
  {
   "cell_type": "code",
   "execution_count": null,
   "metadata": {},
   "outputs": [],
   "source": [
    "t, m1, m2, g, k1, k2 = smp.symbols('t m_1 m_2 g k_1 k_2')"
   ]
  },
  {
   "cell_type": "code",
   "execution_count": null,
   "metadata": {},
   "outputs": [],
   "source": [
    "t1, t2, r1, r2 = smp.symbols(r'\\theta_1, \\theta_2, r_1, r_2', cls=smp.Function)\n",
    "# m1 = m2\n",
    "# k1 = k2\n",
    "# theta1\n",
    "t1 = t1(t)\n",
    "w1 = smp.diff(t1, t)\n",
    "dw1dt = smp.diff(smp.diff(t1, t), t)\n",
    "\n",
    "t2 = t2(t)\n",
    "w2 = smp.diff(t2, t)\n",
    "dw2dt = smp.diff(smp.diff(t2, t), t)\n",
    "\n",
    "r1 = r1(t)\n",
    "v1 = smp.diff(r1, t)\n",
    "dv1dt = smp.diff(smp.diff(r1, t), t)\n",
    "\n",
    "r2 = r2(t)\n",
    "v2 = smp.diff(r2, t)\n",
    "dv2dt = smp.diff(smp.diff(r2, t), t)\n"
   ]
  },
  {
   "cell_type": "markdown",
   "metadata": {},
   "source": [
    "Define cartesian coordinates of each bob\n",
    "\n",
    "* Bob 1: $(x_1, y_1)$\n",
    "* Bob 2: $(x_2, y_2)$\n",
    "\n",
    "Note these are functions of $\\theta_1$, $r_1$, $\\theta_2$, $r_2$"
   ]
  },
  {
   "cell_type": "code",
   "execution_count": null,
   "metadata": {},
   "outputs": [],
   "source": [
    "x1, y1, x2, y2 = smp.symbols('x_1, y_1, x_2, y_2', cls = smp.Function)\n",
    "x1= x1(t1, r1)\n",
    "y1= y1(t1, r1)\n",
    "x2= x2(t1, r1, t2, r2)\n",
    "y2= y2(t1, r1, t2, r2)"
   ]
  },
  {
   "cell_type": "code",
   "execution_count": null,
   "metadata": {},
   "outputs": [],
   "source": [
    "x1 = (1+r1)*smp.cos(t1)\n",
    "y1 = -(1+r1)*smp.sin(t1)\n",
    "x2 = (1+r1)*smp.cos(t1) + (1+r2)*smp.cos(t2)\n",
    "y2 = -(1+r1)*smp.sin(t1)-(1+r2)*smp.sin(t2)"
   ]
  },
  {
   "cell_type": "markdown",
   "metadata": {},
   "source": [
    "Define the Lagrangian\n",
    "\n",
    "$$ L = T - V $$\n",
    "\n",
    "where \n",
    "\n",
    "* T = $\\frac{1}{2}m(\\dot{x}_1^2 + \\dot{y}_1^2) + \\frac{1}{2}m(\\dot{x}_2^2 + \\dot{y}_2^2)$\n",
    "* V = $mgy_1 + mgy_2 + \\frac{1}{2}kr_1^2 + \\frac{1}{2}kr_2^2 $"
   ]
  },
  {
   "cell_type": "code",
   "execution_count": null,
   "metadata": {},
   "outputs": [],
   "source": [
    "T = (1/2 * m1 * (smp.diff(x1, t)**2 + smp.diff(y1, t)**2 )) + (1/2 * m2 * (smp.diff(x2, t)**2 +  smp.diff(y2, t)**2))\n",
    "\n",
    "V = m1*g*y1 + m2*g*y2 + 1/2 * k1 * r1**2 + 1/2 * k2 * r2**2\n",
    "\n",
    "L = T-V"
   ]
  },
  {
   "cell_type": "markdown",
   "metadata": {},
   "source": [
    "Compute Lagrange's equations\n",
    "\n",
    "$\\frac{dL}{dz} - \\frac{d}{dt} \\frac{dL}{d\\dot{z}} = 0$\n",
    "\n",
    "where $z$ is each of $\\theta_1$, $r_1$, $\\theta_2$, $r_2$"
   ]
  },
  {
   "cell_type": "code",
   "execution_count": null,
   "metadata": {},
   "outputs": [],
   "source": [
    "LE1 = smp.diff(L, t1) - smp.diff(smp.diff(L, w1), t)\n",
    "LE1 = LE1.simplify()"
   ]
  },
  {
   "cell_type": "code",
   "execution_count": null,
   "metadata": {},
   "outputs": [],
   "source": [
    "LE2 = smp.diff(L, t2) - smp.diff(smp.diff(L, w2), t)\n",
    "LE2 = LE2.simplify()"
   ]
  },
  {
   "cell_type": "code",
   "execution_count": null,
   "metadata": {},
   "outputs": [],
   "source": [
    "LE3 = smp.diff(L, r1) - smp.diff(smp.diff(L, v1), t)\n",
    "LE3 = LE3.simplify()"
   ]
  },
  {
   "cell_type": "code",
   "execution_count": null,
   "metadata": {},
   "outputs": [],
   "source": [
    "LE4 = smp.diff(L, r2) - smp.diff(smp.diff(L, v2), t)\n",
    "LE4 = LE4.simplify()"
   ]
  },
  {
   "cell_type": "code",
   "execution_count": null,
   "metadata": {},
   "outputs": [],
   "source": [
    "LE1"
   ]
  },
  {
   "cell_type": "markdown",
   "metadata": {},
   "source": [
    "If we solve for $d^2 z / d t^2$ where $z$ is each of $\\theta_1$, $r_1$, $\\theta_2$, $r_2$ then we can get two equation for each free variable. Defining $v_z$ as $dz/dt$ we get\n",
    "\n",
    "* $dz/dt = v_z$\n",
    "* $dv_z/dt = \\text{whatever we solved for}$\n",
    "\n",
    "This turns our system of second order ODES into systems 1D differential equations.\n",
    "\n",
    "**Example** $\\frac{d^2 y}{dt^2} + 2\\frac{dy}{dt} + y + 3 = 0$ (define $v = dy/dt$) gets turned into the system of 2 first order DE's (i) $dy/dt = v$ and  (ii) $dv/dt =  - 3 - y - 2v$\n",
    "\n",
    "Specifically, define \n",
    "\n",
    "* $\\omega_1 \\equiv d\\theta_1/dt$\n",
    "* $\\omega_2 \\equiv d\\theta_2/dt$\n",
    "* $v_1 \\equiv dr_1/dt$\n",
    "* $v_2 \\equiv dr_2/dt$"
   ]
  },
  {
   "cell_type": "code",
   "execution_count": null,
   "metadata": {},
   "outputs": [],
   "source": [
    "ddts = smp.solve([LE1, LE2, LE3, LE4], (dw1dt, dw2dt, dv1dt, dv2dt), simplify=False, rational=False)"
   ]
  },
  {
   "cell_type": "code",
   "execution_count": null,
   "metadata": {},
   "outputs": [],
   "source": [
    "ddts[dw1dt]"
   ]
  },
  {
   "cell_type": "markdown",
   "metadata": {},
   "source": [
    "Create numpy functions that we can use with numerical methods"
   ]
  },
  {
   "cell_type": "code",
   "execution_count": null,
   "metadata": {},
   "outputs": [],
   "source": [
    "w1_f = smp.lambdify(w1, w1)\n",
    "dw1dt_f = smp.lambdify((m1, m2, k1, k2, g, t1, t2, r1, r2, w1, w2, v1, v2), ddts[dw1dt])\n",
    "\n",
    "w2_f = smp.lambdify(w2, w2)\n",
    "dw2dt_f = smp.lambdify((m1, m2, k1, k2,g, t1, t2, r1, r2, w1, w2, v1, v2), ddts[dw2dt])\n",
    "\n",
    "v1_f = smp.lambdify(v1, v1)\n",
    "dv1dt_f = smp.lambdify((m1, m2, k1, k2,g, t1, t2, r1, r2, w1, w2, v1, v2), ddts[dv1dt])\n",
    "\n",
    "v2_f = smp.lambdify(v2, v2)\n",
    "dv2dt_f = smp.lambdify((m1, m2, k1, k2,g, t1, t2, r1, r2, w1, w2, v1, v2), ddts[dv2dt])"
   ]
  },
  {
   "cell_type": "markdown",
   "metadata": {},
   "source": [
    "Define our system of ODES where $S = (\\theta_1, \\omega_1, \\theta_2, \\omega_2, r_1, v_1, r_2, v_2)$"
   ]
  },
  {
   "cell_type": "code",
   "execution_count": null,
   "metadata": {},
   "outputs": [],
   "source": [
    "def dSdt(S, t):\n",
    "    t1, w1, t2, w2, r1, v1, r2, v2 = S\n",
    "    return [\n",
    "        w1_f(w1),\n",
    "        dw1dt_f(m1, m2, k1, k2,g, t1, t2, r1, r2, w1, w2, v1, v2),\n",
    "\n",
    "        w2_f(w2),\n",
    "        dw2dt_f(m1, m2, k1, k2,g, t1, t2, r1, r2, w1, w2, v1, v2),\n",
    "\n",
    "        v1_f(v1),\n",
    "        dv1dt_f(m1, m2, k1, k2,g, t1, t2, r1, r2, w1, w2, v1, v2),\n",
    "\n",
    "        v2_f(v2),\n",
    "        dv2dt_f(m1, m2, k1, k2,g, t1, t2, r1, r2, w1, w2, v1, v2)\n",
    "    ]"
   ]
  },
  {
   "cell_type": "markdown",
   "metadata": {},
   "source": [
    "Initial Condition"
   ]
  },
  {
   "cell_type": "code",
   "execution_count": null,
   "metadata": {},
   "outputs": [],
   "source": [
    "# y0_1 = (np.pi/4, np.pi/4, 0, 0, 0, 3/2*np.pi/4, 1, 2)"
   ]
  },
  {
   "cell_type": "markdown",
   "metadata": {},
   "source": [
    "Define times, constants, solve ODE"
   ]
  },
  {
   "cell_type": "code",
   "execution_count": null,
   "metadata": {},
   "outputs": [],
   "source": [
    "t = np.linspace(0, 20, 1000)\n",
    "g = 9.81\n",
    "m1 = 1\n",
    "m2 = 2\n",
    "k1 = 10\n",
    "k2 = 15\n",
    "system_1 = odeint(dSdt, y0=[np.pi/4,0,(3/2)*np.pi/2,0,0,10,0,5], t = t)"
   ]
  },
  {
   "cell_type": "markdown",
   "metadata": {},
   "source": [
    "Plot $\\theta_1$ as function of time"
   ]
  },
  {
   "cell_type": "code",
   "execution_count": null,
   "metadata": {},
   "outputs": [],
   "source": [
    "plt.plot(system_1.T[0])"
   ]
  },
  {
   "cell_type": "markdown",
   "metadata": {},
   "source": [
    "Get locations of $x_1$, $y_1$, $x_2$, $y_2$ given $\\theta_1$, $r_1$, $\\theta_2$, $r_2$"
   ]
  },
  {
   "cell_type": "code",
   "execution_count": null,
   "metadata": {},
   "outputs": [],
   "source": [
    "def get_x1y1x2y2(t1, t2, r1, r2):\n",
    "    return ((1+r1)*np.cos(t1),\n",
    "            -(1+r1)*np.sin(t1),\n",
    "            (1+r1)*np.cos(t1) + (1+r2)*np.cos(t2),\n",
    "            -(1+r1)*np.sin(t1)-(1+r2)*np.sin(t2)\n",
    "    )"
   ]
  },
  {
   "cell_type": "markdown",
   "metadata": {},
   "source": [
    "Get $x$s and $y$s as function of time"
   ]
  },
  {
   "cell_type": "code",
   "execution_count": null,
   "metadata": {},
   "outputs": [],
   "source": [
    "x1, y1, x2, y2 = get_x1y1x2y2(system_1.T[0], system_1.T[2], system_1.T[4], system_1.T[6])"
   ]
  },
  {
   "cell_type": "markdown",
   "metadata": {},
   "source": [
    "Plot ys"
   ]
  },
  {
   "cell_type": "code",
   "execution_count": null,
   "metadata": {},
   "outputs": [],
   "source": [
    "plt.plot(y1)"
   ]
  },
  {
   "cell_type": "markdown",
   "metadata": {},
   "source": [
    "Make animation "
   ]
  },
  {
   "cell_type": "code",
   "execution_count": null,
   "metadata": {},
   "outputs": [],
   "source": [
    "def animate(i):\n",
    "    ln1.set_data([0, x1[i]], [0, y1[i]])\n",
    "    ln2.set_data([x1[i], x2[i]], [y1[i], y2[i]])\n",
    "fig, ax = plt.subplots(1,1, figsize=(10,10))\n",
    "ax.grid()\n",
    "ln1, = plt.plot([], [], 'bo--', lw=k1/4, markersize=m1*4)\n",
    "ln2, = plt.plot([], [], 'ro--', lw=k2/4, markersize=m2*4)\n",
    "ax.set_ylim(-18, 8)\n",
    "ax.set_xlim(-10, 10)\n",
    "ani = animation.FuncAnimation(fig, animate, frames=1000, interval=50)\n",
    "ani.save('Double_Springed_Pendulum.gif',writer='pillow',fps=50)"
   ]
  },
  {
   "cell_type": "code",
   "execution_count": null,
   "metadata": {},
   "outputs": [],
   "source": []
  }
 ],
 "metadata": {
  "kernelspec": {
   "display_name": "Python 3",
   "language": "python",
   "name": "python3"
  },
  "language_info": {
   "codemirror_mode": {
    "name": "ipython",
    "version": 3
   },
   "file_extension": ".py",
   "mimetype": "text/x-python",
   "name": "python",
   "nbconvert_exporter": "python",
   "pygments_lexer": "ipython3",
   "version": "3.12.4"
  }
 },
 "nbformat": 4,
 "nbformat_minor": 4
}
